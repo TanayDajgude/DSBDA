{
 "cells": [
  {
   "cell_type": "code",
   "execution_count": 1,
   "id": "e75ff683",
   "metadata": {},
   "outputs": [],
   "source": [
    "import nltk"
   ]
  },
  {
   "cell_type": "code",
   "execution_count": 3,
   "id": "f21ba5e8",
   "metadata": {},
   "outputs": [
    {
     "name": "stderr",
     "output_type": "stream",
     "text": [
      "[nltk_data] Downloading package punkt to\n",
      "[nltk_data]     C:\\Users\\HP\\AppData\\Roaming\\nltk_data...\n",
      "[nltk_data]   Package punkt is already up-to-date!\n",
      "[nltk_data] Downloading package stopwords to\n",
      "[nltk_data]     C:\\Users\\HP\\AppData\\Roaming\\nltk_data...\n",
      "[nltk_data]   Package stopwords is already up-to-date!\n",
      "[nltk_data] Downloading package wordnet to\n",
      "[nltk_data]     C:\\Users\\HP\\AppData\\Roaming\\nltk_data...\n",
      "[nltk_data]   Package wordnet is already up-to-date!\n",
      "[nltk_data] Downloading package averaged_perceptron_tagger to\n",
      "[nltk_data]     C:\\Users\\HP\\AppData\\Roaming\\nltk_data...\n",
      "[nltk_data]   Package averaged_perceptron_tagger is already up-to-\n",
      "[nltk_data]       date!\n"
     ]
    },
    {
     "data": {
      "text/plain": [
       "True"
      ]
     },
     "execution_count": 3,
     "metadata": {},
     "output_type": "execute_result"
    }
   ],
   "source": [
    "nltk.download('punkt')\n",
    "nltk.download('stopwords')\n",
    "nltk.download('wordnet')\n",
    "nltk.download('averaged_perceptron_tagger')"
   ]
  },
  {
   "cell_type": "code",
   "execution_count": 4,
   "id": "7faec7af",
   "metadata": {},
   "outputs": [],
   "source": [
    "text = \"Tokenization is the first step in text analytics. The process of breaking down a text paragraph into smaller chunks such as words or sentences is called Tokenization.\""
   ]
  },
  {
   "cell_type": "code",
   "execution_count": 5,
   "id": "9d85675e",
   "metadata": {},
   "outputs": [
    {
     "name": "stdout",
     "output_type": "stream",
     "text": [
      "['Tokenization is the first step in text analytics.', 'The process of breaking down a text paragraph into smaller chunks such as words or sentences is called Tokenization.']\n"
     ]
    }
   ],
   "source": [
    "from nltk.tokenize import sent_tokenize\n",
    "tokenized_text = sent_tokenize(text)\n",
    "print(tokenized_text)"
   ]
  },
  {
   "cell_type": "code",
   "execution_count": 6,
   "id": "0d5c68b4",
   "metadata": {},
   "outputs": [
    {
     "name": "stdout",
     "output_type": "stream",
     "text": [
      "['Tokenization', 'is', 'the', 'first', 'step', 'in', 'text', 'analytics', '.', 'The', 'process', 'of', 'breaking', 'down', 'a', 'text', 'paragraph', 'into', 'smaller', 'chunks', 'such', 'as', 'words', 'or', 'sentences', 'is', 'called', 'Tokenization', '.']\n"
     ]
    }
   ],
   "source": [
    "from nltk.tokenize import word_tokenize\n",
    "tokenized_word = word_tokenize(text)\n",
    "print(tokenized_word)"
   ]
  },
  {
   "cell_type": "code",
   "execution_count": 8,
   "id": "97096ad7",
   "metadata": {},
   "outputs": [
    {
     "name": "stdout",
     "output_type": "stream",
     "text": [
      "stop words of english\n",
      "{'we', 'about', 'didn', \"hasn't\", 'ma', 'aren', \"wouldn't\", 'whom', 'who', 'of', 've', 'ain', 'that', 'which', 'while', 'being', 'y', 'now', 'i', 'wasn', 'can', 'had', 'be', \"won't\", \"shouldn't\", \"you'll\", 'or', 'but', 'by', 'when', 'wouldn', 'do', 'yourself', 'these', \"should've\", 'why', 'through', 'then', 'any', 'over', 'itself', 'our', 'in', 'below', \"doesn't\", 'the', \"it's\", 'd', 'doesn', 'was', 'against', 'himself', 'ourselves', 'at', 'what', 'shan', \"needn't\", 'during', 'own', 'how', 'has', 'all', 't', 'more', \"that'll\", 'so', 'from', \"couldn't\", 'been', 'for', \"haven't\", 'are', 'won', 'very', 'is', \"she's\", 'up', \"hadn't\", 'out', 'shouldn', 'those', 're', 'ours', 'an', 'yours', 'her', 'again', 'other', 'their', 'were', 'mustn', 'some', 'hadn', 'there', 'because', 's', 'than', 'does', 'to', 'further', \"you'd\", 'he', 'myself', 'such', 'just', \"shan't\", \"don't\", 'only', 'on', 'not', 'him', 'no', 'should', 'between', \"you're\", \"didn't\", 'too', 'm', 'mightn', 'with', \"wasn't\", 'isn', 'both', 'am', 'into', 'a', \"aren't\", 'they', 'my', 'this', 'where', 'it', 'she', 'each', \"isn't\", 'most', 'couldn', 'themselves', 'here', 'have', 'haven', 'under', 'll', \"mustn't\", 'after', 'weren', 'off', 'will', 'its', 'yourselves', 'o', 'once', 'before', 'you', 'hers', 'down', 'me', 'hasn', 'them', 'above', 'and', 'as', \"you've\", 'his', 'needn', 'if', 'did', 'theirs', 'herself', \"mightn't\", \"weren't\", 'until', 'few', 'doing', 'your', 'don', 'same', 'having', 'nor'}\n"
     ]
    }
   ],
   "source": [
    "print('stop words of english')\n",
    "from nltk.corpus import stopwords\n",
    "stop_words = set(stopwords.words('english'))\n",
    "print(stop_words)"
   ]
  },
  {
   "cell_type": "code",
   "execution_count": 10,
   "id": "640149e9",
   "metadata": {},
   "outputs": [
    {
     "name": "stdout",
     "output_type": "stream",
     "text": [
      "['This', 'is', 'a', 'sample', 'sentence', ',', 'showing', 'off', 'the', 'stop', 'words', 'filtration', '.']\n",
      "['This', 'sample', 'sentence', ',', 'showing', 'stop', 'words', 'filtration', '.']\n"
     ]
    }
   ],
   "source": [
    "from nltk.corpus import stopwords\n",
    "from nltk.tokenize import word_tokenize\n",
    "\n",
    "example_sent = \"\"\"This is a sample sentence,\n",
    "                  showing off the stop words filtration.\"\"\"\n",
    "stop_words=set(stopwords.words('english'))\n",
    "word_tokens = word_tokenize(example_sent)\n",
    "filtered_sentence = [w for w in word_tokens if not w.lower() in stop_words]\n",
    "filtered_sentence = []\n",
    "\n",
    "for w in word_tokens:\n",
    "    if w not in stop_words:\n",
    "        filtered_sentence.append(w)\n",
    "\n",
    "print(word_tokens)\n",
    "print(filtered_sentence)\n"
   ]
  },
  {
   "cell_type": "code",
   "execution_count": 11,
   "id": "fa33201f",
   "metadata": {},
   "outputs": [
    {
     "name": "stdout",
     "output_type": "stream",
     "text": [
      "wait\n",
      "wait\n",
      "wait\n",
      "wait\n"
     ]
    }
   ],
   "source": [
    "from nltk.stem import PorterStemmer\n",
    "ps = PorterStemmer()\n",
    "e_words = ['wait','waits','waiting','waited']\n",
    "for w in e_words:\n",
    "    rootword = ps.stem(w)\n",
    "    print(rootword)"
   ]
  },
  {
   "cell_type": "code",
   "execution_count": 12,
   "id": "2d8b6298",
   "metadata": {},
   "outputs": [
    {
     "name": "stdout",
     "output_type": "stream",
     "text": [
      "wait\n",
      "wait\n",
      "wait\n",
      "wait\n"
     ]
    }
   ],
   "source": [
    "from nltk.stem import PorterStemmer\n",
    "e_words = ['wait','waiting','waits','waited']\n",
    "ps = PorterStemmer()\n",
    "\n",
    "for w in e_words:\n",
    "    rootword=ps.stem(w)\n",
    "    print(rootword)"
   ]
  },
  {
   "cell_type": "code",
   "execution_count": 14,
   "id": "91e7261f",
   "metadata": {},
   "outputs": [
    {
     "name": "stdout",
     "output_type": "stream",
     "text": [
      "Lema for studies is study\n",
      "Lema for studying is studying\n",
      "Lema for cries is cry\n",
      "Lema for cry is cry\n"
     ]
    }
   ],
   "source": [
    "from nltk.stem import WordNetLemmatizer\n",
    "wordnet_lemmatizer = WordNetLemmatizer()\n",
    "text = \"studies studying cries cry\"\n",
    "tokenization = nltk.word_tokenize(text)\n",
    "for w in tokenization:\n",
    "    print(\"Lema for {} is {}\".format(w,wordnet_lemmatizer.lemmatize(w)))\n",
    "    "
   ]
  },
  {
   "cell_type": "code",
   "execution_count": null,
   "id": "1f736430",
   "metadata": {},
   "outputs": [],
   "source": []
  }
 ],
 "metadata": {
  "kernelspec": {
   "display_name": "Python 3 (ipykernel)",
   "language": "python",
   "name": "python3"
  },
  "language_info": {
   "codemirror_mode": {
    "name": "ipython",
    "version": 3
   },
   "file_extension": ".py",
   "mimetype": "text/x-python",
   "name": "python",
   "nbconvert_exporter": "python",
   "pygments_lexer": "ipython3",
   "version": "3.10.9"
  }
 },
 "nbformat": 4,
 "nbformat_minor": 5
}
